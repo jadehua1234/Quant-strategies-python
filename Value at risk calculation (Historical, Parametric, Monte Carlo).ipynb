{
 "cells": [
  {
   "cell_type": "markdown",
   "id": "1c8b23bf-171d-4bd3-8ca0-0ba58d82e2cb",
   "metadata": {},
   "source": [
    "Description\n",
    "\n",
    "alue at Risk (VaR) – Project Overview\n",
    "Value at Risk (VaR) is a statistical measure used to estimate the potential loss in value of a portfolio over a defined period for a given confidence level.\n",
    " In simpler terms, VaR answers the question:\n",
    "\"What is the worst expected loss over a given time horizon at a certain confidence level?\"\n",
    "This notebook implements and compares three popular VaR methods:\n",
    "\n",
    "Historical VaR\n",
    "Based on actual historical returns\n",
    "Assumes the past reflects the future\n",
    "Non-parametric (makes no distribution assumptions)\n",
    "\n",
    "\n",
    "Parametric VaR (Variance-Covariance)\n",
    "Assumes returns are normally distributed\n",
    "Uses the mean and standard deviation of returns\n",
    "Simple and fast but may underestimate tail risk\n",
    "\n",
    "\n",
    "Monte Carlo Simulation VaR\n",
    "Simulates thousands of possible future returns using random sampling\n",
    "Very flexible (can model non-normality and custom scenarios)\n",
    "More computationally intensive\n",
    "\n",
    "\n",
    "\n",
    "Main Steps\n",
    "Import ETF price data from Yahoo Finance using the yfinance API\n",
    "Calculate daily log returns for each asset\n",
    "Construct a portfolio using equal weights\n",
    "Calculate portfolio returns over time\n",
    "Compute VaR using all three methods: Historical, Parametric,Monte Carlo\n",
    "Visualize the results:\n",
    "Show return distributions\n",
    "Plot VaR thresholds on histograms\n",
    "Annotate VaR dollar values on charts"
   ]
  },
  {
   "cell_type": "markdown",
   "id": "bd75c810-9568-44fb-8bc5-4548ac62e6c5",
   "metadata": {},
   "source": [
    "Historical method"
   ]
  },
  {
   "cell_type": "code",
   "execution_count": 28,
   "id": "28f21026-8102-4bf1-84da-23a2d136dbd9",
   "metadata": {},
   "outputs": [],
   "source": [
    "import numpy as np\n",
    "import pandas as pd\n",
    "import datetime as dt\n",
    "import yfinance as yf\n",
    "\n",
    "years = 5\n",
    "\n",
    "endDate = dt.datetime.now()\n",
    "startDate = endDate - dt.timedelta(days=365*years)\n",
    "\n",
    "tickers = ['SPY', 'BND', 'GLD', 'QQQ', 'VTI']"
   ]
  },
  {
   "cell_type": "code",
   "execution_count": 29,
   "id": "cd566e5c-032f-421d-ab06-7c21b62f7929",
   "metadata": {},
   "outputs": [
    {
     "name": "stderr",
     "output_type": "stream",
     "text": [
      "/var/folders/1j/41kq93912b15xcnh4k_n0pzc0000gn/T/ipykernel_27769/150839872.py:8: FutureWarning: YF.download() has changed argument auto_adjust default to True\n",
      "  data = yf.download(ticker, start=startDate, end=endDate)\n",
      "[*********************100%***********************]  1 of 1 completed\n",
      "/var/folders/1j/41kq93912b15xcnh4k_n0pzc0000gn/T/ipykernel_27769/150839872.py:8: FutureWarning: YF.download() has changed argument auto_adjust default to True\n",
      "  data = yf.download(ticker, start=startDate, end=endDate)\n",
      "[*********************100%***********************]  1 of 1 completed\n",
      "/var/folders/1j/41kq93912b15xcnh4k_n0pzc0000gn/T/ipykernel_27769/150839872.py:8: FutureWarning: YF.download() has changed argument auto_adjust default to True\n",
      "  data = yf.download(ticker, start=startDate, end=endDate)\n",
      "[*********************100%***********************]  1 of 1 completed\n",
      "/var/folders/1j/41kq93912b15xcnh4k_n0pzc0000gn/T/ipykernel_27769/150839872.py:8: FutureWarning: YF.download() has changed argument auto_adjust default to True\n",
      "  data = yf.download(ticker, start=startDate, end=endDate)\n",
      "[*********************100%***********************]  1 of 1 completed\n",
      "/var/folders/1j/41kq93912b15xcnh4k_n0pzc0000gn/T/ipykernel_27769/150839872.py:8: FutureWarning: YF.download() has changed argument auto_adjust default to True\n",
      "  data = yf.download(ticker, start=startDate, end=endDate)\n",
      "[*********************100%***********************]  1 of 1 completed"
     ]
    },
    {
     "name": "stdout",
     "output_type": "stream",
     "text": [
      "                   SPY        BND         GLD         QQQ         VTI\n",
      "Date                                                                 \n",
      "2020-07-23  300.713898  77.185860  177.179993  250.539246  152.411011\n",
      "2020-07-24  298.777130  77.168571  178.699997  248.160202  151.230484\n",
      "2020-07-27  300.955994  77.116638  182.229996  252.588181  152.531906\n",
      "2020-07-28  299.047333  77.151237  183.750000  249.374008  151.416367\n",
      "2020-07-29  302.725159  77.272377  185.130005  252.248291  153.424240\n",
      "...                ...        ...         ...         ...         ...\n",
      "2025-07-15  622.140015  72.570000  306.730011  556.719971  306.100006\n",
      "2025-07-16  624.219971  72.709999  308.260010  557.289978  307.260010\n",
      "2025-07-17  628.039978  72.730003  307.589996  561.799988  309.260010\n",
      "2025-07-18  627.580017  72.849998  308.390015  561.260010  309.089996\n",
      "2025-07-21  628.770020  73.059998  313.130005  564.169983  309.440002\n",
      "\n",
      "[1254 rows x 5 columns]\n",
      "2020-07-23 14:51:47.488053\n",
      "2025-07-22 14:51:47.488053\n"
     ]
    },
    {
     "name": "stderr",
     "output_type": "stream",
     "text": [
      "\n"
     ]
    }
   ],
   "source": [
    "import yfinance as yf\n",
    "import pandas as pd\n",
    "\n",
    "tickers = ['SPY', 'BND', 'GLD', 'QQQ', 'VTI']\n",
    "close_df = pd.DataFrame()\n",
    "\n",
    "for ticker in tickers:\n",
    "    data = yf.download(ticker, start=startDate, end=endDate)\n",
    "    close_df[ticker] = data['Close']\n",
    "\n",
    "print(close_df)\n",
    "\n",
    "print(startDate)\n",
    "print(endDate)\n"
   ]
  },
  {
   "cell_type": "code",
   "execution_count": 30,
   "id": "f38a6f97-8c7b-46e8-a835-ed21a64bfa83",
   "metadata": {},
   "outputs": [
    {
     "name": "stdout",
     "output_type": "stream",
     "text": [
      "                   SPY        BND         GLD         QQQ         VTI\n",
      "Date                                                                 \n",
      "2020-07-23  300.713898  77.185860  177.179993  250.539246  152.411011\n",
      "2020-07-24  298.777130  77.168571  178.699997  248.160202  151.230484\n",
      "2020-07-27  300.955994  77.116638  182.229996  252.588181  152.531906\n",
      "2020-07-28  299.047333  77.151237  183.750000  249.374008  151.416367\n",
      "2020-07-29  302.725159  77.272377  185.130005  252.248291  153.424240\n"
     ]
    }
   ],
   "source": [
    "log_returns = np.log(close_df / close_df.shift(1))\n",
    "log_returns = log_returns.dropna()\n",
    "print(close_df.head())\n"
   ]
  },
  {
   "cell_type": "code",
   "execution_count": 31,
   "id": "2af1f0b7-6591-4659-a1ae-f7b654fe98db",
   "metadata": {},
   "outputs": [
    {
     "name": "stdout",
     "output_type": "stream",
     "text": [
      "[0.2 0.2 0.2 0.2 0.2]\n"
     ]
    }
   ],
   "source": [
    "portfolio_value = 1000000\n",
    "weights = np.array([1/len(tickers)]*len(tickers))\n",
    "print(weights)"
   ]
  },
  {
   "cell_type": "code",
   "execution_count": 32,
   "id": "341a983a-1cbb-48ec-a8a9-79f7f799577e",
   "metadata": {},
   "outputs": [
    {
     "name": "stdout",
     "output_type": "stream",
     "text": [
      "Date\n",
      "2020-07-24   -0.003092\n",
      "2020-07-27    0.010482\n",
      "2020-07-28   -0.003551\n",
      "2020-07-29    0.009182\n",
      "2020-07-30   -0.001493\n",
      "                ...   \n",
      "2025-07-15   -0.003167\n",
      "2025-07-16    0.003009\n",
      "2025-07-17    0.003750\n",
      "2025-07-18    0.000400\n",
      "2025-07-21    0.005266\n",
      "Length: 1253, dtype: float64\n"
     ]
    }
   ],
   "source": [
    "historical_returns = (log_returns * weights).sum(axis =1)\n",
    "print(historical_returns)"
   ]
  },
  {
   "cell_type": "code",
   "execution_count": 33,
   "id": "ee637b85-ff6b-4dbb-ad35-027201b6a13a",
   "metadata": {},
   "outputs": [
    {
     "name": "stdout",
     "output_type": "stream",
     "text": [
      "Date\n",
      "2020-09-03    0.052109\n",
      "2020-09-04    0.048544\n",
      "2020-09-08    0.016883\n",
      "2020-09-09    0.035809\n",
      "2020-09-10    0.015188\n",
      "                ...   \n",
      "2025-07-15    0.039912\n",
      "2025-07-16    0.034401\n",
      "2025-07-17    0.036082\n",
      "2025-07-18    0.033474\n",
      "2025-07-21    0.043725\n",
      "Length: 1224, dtype: float64\n"
     ]
    }
   ],
   "source": [
    "days = 30\n",
    "\n",
    "range_returns = historical_returns.rolling(window = days).sum()\n",
    "range_returns = range_returns.dropna()\n",
    "print(range_returns)"
   ]
  },
  {
   "cell_type": "code",
   "execution_count": 34,
   "id": "e37731d0-a1c4-49bb-b84b-246a4f2262f0",
   "metadata": {},
   "outputs": [
    {
     "name": "stdout",
     "output_type": "stream",
     "text": [
      "109404.6455588097\n"
     ]
    }
   ],
   "source": [
    "confidence_interval = 0.99\n",
    "\n",
    "VaR = -np.percentile(range_returns, 100 - (confidence_interval * 100))*portfolio_value\n",
    "print(VaR)"
   ]
  },
  {
   "cell_type": "code",
   "execution_count": 35,
   "id": "ab64d9bf-f9ef-44eb-9734-91e4a3d688ea",
   "metadata": {},
   "outputs": [
    {
     "data": {
      "image/png": "[encoded data removed]",
      "text/plain": [
       "<Figure size 640x480 with 1 Axes>"
      ]
     },
     "metadata": {},
     "output_type": "display_data"
    }
   ],
   "source": [
    "import matplotlib.pyplot as plt\n",
    "\n",
    "return_window = days\n",
    "range_returns = historical_returns.rolling(window=return_window).sum()\n",
    "range_returns = range_returns.dropna()\n",
    "\n",
    "range_returns_dollar = range_returns * portfolio_value\n",
    "\n",
    "# Plot histogram\n",
    "plt.hist(range_returns_dollar.dropna(), bins=50, density=True)\n",
    "plt.xlabel(f'{return_window}-Day Portfolio Return (Dollar Value)')\n",
    "plt.ylabel('Frequency')\n",
    "plt.title(f'Distribution of Portfolio {return_window}-Day Returns (Dollar Value)')\n",
    "\n",
    "# Add VaR line\n",
    "plt.axvline(-VaR, color='r', linestyle='dashed', linewidth=2,\n",
    "            label=f'VaR at {confidence_interval:.0%} confidence level')\n",
    "\n",
    "# Annotate VaR value\n",
    "plt.text(-VaR, plt.ylim()[1]*0.8, f'${-VaR:,.0f}', color='red', fontsize=10, ha='right', rotation=90)\n",
    "\n",
    "plt.legend()\n",
    "plt.show()\n"
   ]
  },
  {
   "cell_type": "code",
   "execution_count": 36,
   "id": "110e9c2a-e64e-4982-b886-362adb3e70e4",
   "metadata": {},
   "outputs": [
    {
     "name": "stdout",
     "output_type": "stream",
     "text": [
      "30-Day VaR (99%): $10,940.46\n",
      "Relative VaR: 10.94%\n",
      "Risk Classification: Elevated Risk\n"
     ]
    }
   ],
   "source": [
    "import numpy as np\n",
    "\n",
    "# --- Inputs ---\n",
    "portfolio_value = 100000\n",
    "confidence_level = 0.99\n",
    "days = 30  # VaR time horizon\n",
    "\n",
    "# --- Step 1: Calculate 30-day rolling returns ---\n",
    "range_returns = historical_returns.rolling(window=days).sum()\n",
    "range_returns = range_returns.dropna()\n",
    "\n",
    "# --- Step 2: Compute 99% Historical VaR ---\n",
    "VaR_30d = -np.percentile(range_returns, 100 * (1 - confidence_level)) * portfolio_value\n",
    "\n",
    "# --- Step 3: Compute Relative VaR (% of portfolio value) ---\n",
    "relative_VaR = (VaR_30d / portfolio_value) * 100\n",
    "\n",
    "# --- Step 4: Classify Risk ---\n",
    "if relative_VaR < 5:\n",
    "    risk_level = \"Low Risk\"\n",
    "elif 5 <= relative_VaR < 10:\n",
    "    risk_level = \"Moderate Risk\"\n",
    "elif 10 <= relative_VaR <= 15:\n",
    "    risk_level = \"Elevated Risk\"\n",
    "else:\n",
    "    risk_level = \"High Risk\"\n",
    "\n",
    "# --- Output ---\n",
    "print(f\"30-Day VaR (99%): ${VaR_30d:,.2f}\")\n",
    "print(f\"Relative VaR: {relative_VaR:.2f}%\")\n",
    "print(f\"Risk Classification: {risk_level}\")\n"
   ]
  },
  {
   "cell_type": "raw",
   "id": "a1117f5f-c60e-4e5d-9436-7723ab27df64",
   "metadata": {},
   "source": [
    "Parametric Method "
   ]
  },
  {
   "cell_type": "code",
   "execution_count": 37,
   "id": "78882d09-1984-4ae9-8717-7ae0f8202991",
   "metadata": {},
   "outputs": [],
   "source": [
    "import numpy as np\n",
    "import pandas as pd\n",
    "import datetime as dt\n",
    "import yfinance as yf\n",
    "\n",
    "years = 15\n",
    "\n",
    "endDate = dt.datetime.now()\n",
    "startDate = endDate - dt.timedelta(days=365*years)\n",
    "\n",
    "tickers = ['SPY', 'BND', 'GLD', 'QQQ', 'VTI']"
   ]
  },
  {
   "cell_type": "code",
   "execution_count": 38,
   "id": "f85983be-6292-4ed0-be4d-98926869c367",
   "metadata": {},
   "outputs": [
    {
     "name": "stderr",
     "output_type": "stream",
     "text": [
      "/var/folders/1j/41kq93912b15xcnh4k_n0pzc0000gn/T/ipykernel_27769/1899291725.py:4: FutureWarning: YF.download() has changed argument auto_adjust default to True\n",
      "  data = yf.download(ticker, start=startDate, end=endDate)\n",
      "[*********************100%***********************]  1 of 1 completed\n",
      "/var/folders/1j/41kq93912b15xcnh4k_n0pzc0000gn/T/ipykernel_27769/1899291725.py:4: FutureWarning: YF.download() has changed argument auto_adjust default to True\n",
      "  data = yf.download(ticker, start=startDate, end=endDate)\n",
      "[*********************100%***********************]  1 of 1 completed\n",
      "/var/folders/1j/41kq93912b15xcnh4k_n0pzc0000gn/T/ipykernel_27769/1899291725.py:4: FutureWarning: YF.download() has changed argument auto_adjust default to True\n",
      "  data = yf.download(ticker, start=startDate, end=endDate)\n",
      "[*********************100%***********************]  1 of 1 completed\n",
      "/var/folders/1j/41kq93912b15xcnh4k_n0pzc0000gn/T/ipykernel_27769/1899291725.py:4: FutureWarning: YF.download() has changed argument auto_adjust default to True\n",
      "  data = yf.download(ticker, start=startDate, end=endDate)\n",
      "[*********************100%***********************]  1 of 1 completed\n",
      "/var/folders/1j/41kq93912b15xcnh4k_n0pzc0000gn/T/ipykernel_27769/1899291725.py:4: FutureWarning: YF.download() has changed argument auto_adjust default to True\n",
      "  data = yf.download(ticker, start=startDate, end=endDate)\n",
      "[*********************100%***********************]  1 of 1 completed\n"
     ]
    }
   ],
   "source": [
    "\n",
    "\n",
    "# Download 'Close' prices instead of 'Adj Close'\n",
    "close_df = pd.DataFrame()\n",
    "for ticker in tickers:\n",
    "    data = yf.download(ticker, start=startDate, end=endDate)\n",
    "    close_df[ticker] = data['Close']\n",
    "\n",
    "# Calculate log returns\n",
    "log_returns = np.log(close_df / close_df.shift(1))\n",
    "log_returns = log_returns.dropna()"
   ]
  },
  {
   "cell_type": "code",
   "execution_count": 39,
   "id": "04ab5726-c592-4f4b-988e-66b170e499e5",
   "metadata": {},
   "outputs": [],
   "source": [
    "portfolio_value = 100000\n",
    "weights = np.array([1/len(tickers)] * len(tickers))\n",
    "\n",
    "historical_returns = (log_returns * weights).sum(axis=1)"
   ]
  },
  {
   "cell_type": "code",
   "execution_count": 40,
   "id": "c52bbd6a-ddd7-4fcc-8e52-a71d53aec5a8",
   "metadata": {},
   "outputs": [],
   "source": [
    "days = 5\n",
    "historical_x_day_returns = historical_returns.rolling(window=days).sum()"
   ]
  },
  {
   "cell_type": "code",
   "execution_count": 41,
   "id": "ff2a0346-d476-4831-bb9f-9a3e3c15e08b",
   "metadata": {},
   "outputs": [],
   "source": [
    "cov_matrix = log_returns.cov() * 252\n",
    "portfolio_std_dev = np.sqrt(weights.T @ cov_matrix @ weights)"
   ]
  },
  {
   "cell_type": "code",
   "execution_count": 42,
   "id": "1db5cd46-f49c-43ea-b24e-88bc2e0b7136",
   "metadata": {},
   "outputs": [],
   "source": [
    "from scipy.stats import norm\n",
    "\n",
    "confidence_levels = [0.90, 0.95, 0.99]\n",
    "\n",
    "VaRs = []\n",
    "for cl in confidence_levels:\n",
    "    VaR = portfolio_value * (norm.ppf(1 - cl) * portfolio_std_dev * np.sqrt(days / 252) - historical_returns.mean() * days)\n",
    "    VaRs.append(VaR)"
   ]
  },
  {
   "cell_type": "code",
   "execution_count": 43,
   "id": "9ba70673-4082-4578-ab70-61b2d97f09a0",
   "metadata": {},
   "outputs": [
    {
     "name": "stdout",
     "output_type": "stream",
     "text": [
      "Confidence Level     Value at Risk       \n",
      "----------------------------------------\n",
      "    90%:          $ -2,317.26\n",
      "    95%:          $ -2,914.68\n",
      "    99%:          $ -4,035.33\n"
     ]
    }
   ],
   "source": [
    "print(f'{\"Confidence Level\":<20} {\"Value at Risk\":<20}')\n",
    "print('-' * 40)\n",
    "\n",
    "for cl, VaR in zip(confidence_levels, VaRs):\n",
    "    print(f'{cl * 100:>6.0f}%: {\"\":<8} ${VaR:>10,.2f}')"
   ]
  },
  {
   "cell_type": "code",
   "execution_count": 44,
   "id": "2d8abe5e-7fc3-4b0e-85b9-50b0497585b7",
   "metadata": {},
   "outputs": [
    {
     "data": {
      "image/png": "[encoded data removed]",
      "text/plain": [
       "<Figure size 640x480 with 1 Axes>"
      ]
     },
     "metadata": {},
     "output_type": "display_data"
    }
   ],
   "source": [
    "import matplotlib.pyplot as plt\n",
    "\n",
    "# Convert returns to dollar values\n",
    "historical_x_day_returns_dollar = historical_x_day_returns * portfolio_value\n",
    "\n",
    "# Plot histogram\n",
    "plt.hist(historical_x_day_returns_dollar, bins=50, density=True, alpha=0.5, label=f'{days}-Day Returns')\n",
    "\n",
    "# Plot VaR Lines and annotate their values\n",
    "for cl, VaR in zip(confidence_levels, VaRs):\n",
    "    VaR_value = VaR  # ✅ Already negative — no need to flip\n",
    "    plt.axvline(x=VaR_value, linestyle='--', color='r', label=f'VaR at {int(cl * 100)}% Confidence')\n",
    "    plt.text(VaR_value, plt.ylim()[1]*0.8, f'${VaR_value:,.0f}', color='red', fontsize=9,\n",
    "             ha='right', rotation=90, bbox=dict(facecolor='white', edgecolor='none', pad=1))\n",
    "\n",
    "# Labels and title\n",
    "plt.xlabel(f'{days}-Day Portfolio Return ($)')\n",
    "plt.ylabel('Frequency')\n",
    "plt.title(f'Distribution of Portfolio {days}-Day Returns and Parametric VaR Estimates')\n",
    "plt.legend()\n",
    "plt.show()"
   ]
  },
  {
   "cell_type": "markdown",
   "id": "786637ab-bd1a-4d8e-9e55-0d710790fdcf",
   "metadata": {},
   "source": [
    "Monte Carlo Method"
   ]
  },
  {
   "cell_type": "code",
   "execution_count": 45,
   "id": "f5f3e697-9fda-46c4-b737-c695fb104bf8",
   "metadata": {},
   "outputs": [],
   "source": [
    "import numpy as np\n",
    "import pandas as pd\n",
    "import datetime as dt\n",
    "import yfinance as yf\n",
    "import matplotlib.pyplot as plt\n",
    "from scipy.stats import norm"
   ]
  },
  {
   "cell_type": "code",
   "execution_count": 46,
   "id": "93a10f6c-57a2-422c-9015-f24edcdd7426",
   "metadata": {},
   "outputs": [],
   "source": [
    "### Set time from to a certain number of years\n",
    "years = 15\n",
    "\n",
    "endDate = dt.datetime.now()\n",
    "startDate = endDate - dt.timedelta(days = 365*years)\n",
    "\n",
    "### Create a list of tickers\n",
    "tickers = ['SPY','BND','GLD','QQQ','VTI']"
   ]
  },
  {
   "cell_type": "code",
   "execution_count": 47,
   "id": "c2ea0a2f-217d-4273-9ca2-3dcaf193c2e8",
   "metadata": {},
   "outputs": [
    {
     "name": "stderr",
     "output_type": "stream",
     "text": [
      "/var/folders/1j/41kq93912b15xcnh4k_n0pzc0000gn/T/ipykernel_27769/1554216027.py:3: FutureWarning: YF.download() has changed argument auto_adjust default to True\n",
      "  data = yf.download(ticker, start=startDate, end=endDate)\n",
      "[*********************100%***********************]  1 of 1 completed\n",
      "/var/folders/1j/41kq93912b15xcnh4k_n0pzc0000gn/T/ipykernel_27769/1554216027.py:3: FutureWarning: YF.download() has changed argument auto_adjust default to True\n",
      "  data = yf.download(ticker, start=startDate, end=endDate)\n",
      "[*********************100%***********************]  1 of 1 completed\n",
      "/var/folders/1j/41kq93912b15xcnh4k_n0pzc0000gn/T/ipykernel_27769/1554216027.py:3: FutureWarning: YF.download() has changed argument auto_adjust default to True\n",
      "  data = yf.download(ticker, start=startDate, end=endDate)\n",
      "[*********************100%***********************]  1 of 1 completed\n",
      "/var/folders/1j/41kq93912b15xcnh4k_n0pzc0000gn/T/ipykernel_27769/1554216027.py:3: FutureWarning: YF.download() has changed argument auto_adjust default to True\n",
      "  data = yf.download(ticker, start=startDate, end=endDate)\n",
      "[*********************100%***********************]  1 of 1 completed\n",
      "/var/folders/1j/41kq93912b15xcnh4k_n0pzc0000gn/T/ipykernel_27769/1554216027.py:3: FutureWarning: YF.download() has changed argument auto_adjust default to True\n",
      "  data = yf.download(ticker, start=startDate, end=endDate)\n",
      "[*********************100%***********************]  1 of 1 completed"
     ]
    },
    {
     "name": "stdout",
     "output_type": "stream",
     "text": [
      "                   SPY        BND         GLD         QQQ         VTI\n",
      "Date                                                                 \n",
      "2010-07-26   84.928856  53.044514  115.519997   40.657558   43.571026\n",
      "2010-07-27   84.921265  53.018509  113.510002   40.640041   43.517471\n",
      "2010-07-28   84.373123  53.109566  113.779999   40.316120   43.211422\n",
      "2010-07-29   83.961998  53.168152  114.290001   40.018452   42.989567\n",
      "2010-07-30   83.946785  53.246201  115.489998   40.106010   43.035461\n",
      "...                ...        ...         ...         ...         ...\n",
      "2025-07-15  622.140015  72.570000  306.730011  556.719971  306.100006\n",
      "2025-07-16  624.219971  72.709999  308.260010  557.289978  307.260010\n",
      "2025-07-17  628.039978  72.730003  307.589996  561.799988  309.260010\n",
      "2025-07-18  627.580017  72.849998  308.390015  561.260010  309.089996\n",
      "2025-07-21  628.770020  73.059998  313.130005  564.169983  309.440002\n",
      "\n",
      "[3770 rows x 5 columns]\n",
      "                 SPY       BND       GLD       QQQ       VTI\n",
      "Date                                                        \n",
      "2010-07-27 -0.000089 -0.000490 -0.017553 -0.000431 -0.001230\n",
      "2010-07-28 -0.006476  0.001716  0.002376 -0.008002 -0.007058\n",
      "2010-07-29 -0.004885  0.001103  0.004472 -0.007411 -0.005147\n",
      "2010-07-30 -0.000181  0.001467  0.010445  0.002186  0.001067\n",
      "2010-08-02  0.022330 -0.000220  0.000433  0.018599  0.021283\n",
      "...              ...       ...       ...       ...       ...\n",
      "2025-07-15 -0.004282 -0.003027 -0.004164  0.000916 -0.005278\n",
      "2025-07-16  0.003338  0.001927  0.004976  0.001023  0.003782\n",
      "2025-07-17  0.006101  0.000275 -0.002176  0.008060  0.006488\n",
      "2025-07-18 -0.000733  0.001649  0.002598 -0.000962 -0.000550\n",
      "2025-07-21  0.001894  0.002878  0.015253  0.005171  0.001132\n",
      "\n",
      "[3769 rows x 5 columns]\n"
     ]
    },
    {
     "name": "stderr",
     "output_type": "stream",
     "text": [
      "\n"
     ]
    }
   ],
   "source": [
    "close_df = pd.DataFrame()\n",
    "for ticker in tickers:\n",
    "    data = yf.download(ticker, start=startDate, end=endDate)\n",
    "    close_df[ticker] = data['Close']\n",
    "\n",
    "# Calculate log returns\n",
    "log_returns = np.log(close_df / close_df.shift(1))\n",
    "log_returns = log_returns.dropna()\n",
    "\n",
    "print(close_df)\n",
    "print(log_returns)"
   ]
  },
  {
   "cell_type": "code",
   "execution_count": 48,
   "id": "d110c84d-dec3-4b31-b87a-01ceb9c1fcfd",
   "metadata": {},
   "outputs": [],
   "source": [
    "### Create a function that will be used to calculate portfolio expected return\n",
    "#We are assuming that future returns are based on past returns, which is not a reliable assumption.\n",
    "def expected_return(weights, log_returns):\n",
    "    return np.sum(log_returns.mean()*weights)\n",
    "\n",
    "### Create a function that will be used to calculate portfolio standard deviation\n",
    "def standard_deviation (weights, cov_matrix):\n",
    "    variance = weights.T @ cov_matrix @ weights\n",
    "    return np.sqrt(variance)"
   ]
  },
  {
   "cell_type": "code",
   "execution_count": 49,
   "id": "fa8c4499-676f-4f90-97af-7b3d7eb8940b",
   "metadata": {},
   "outputs": [
    {
     "name": "stdout",
     "output_type": "stream",
     "text": [
      "              SPY           BND       GLD       QQQ           VTI\n",
      "SPY  1.182490e-04  7.827804e-07  0.000005  0.000132  1.204343e-04\n",
      "BND  7.827804e-07  9.604125e-06  0.000009  0.000002  9.890431e-07\n",
      "GLD  4.914305e-06  9.135842e-06  0.000097  0.000006  5.411023e-06\n",
      "QQQ  1.323842e-04  1.569995e-06  0.000006  0.000171  1.348291e-04\n",
      "VTI  1.204343e-04  9.890431e-07  0.000005  0.000135  1.236241e-04\n"
     ]
    }
   ],
   "source": [
    "### Create a covariance matrix for all the securities\n",
    "cov_matrix = log_returns.cov()\n",
    "print(cov_matrix)"
   ]
  },
  {
   "cell_type": "code",
   "execution_count": 50,
   "id": "ed112098-ac3b-4e70-93dc-da54f564d291",
   "metadata": {},
   "outputs": [],
   "source": [
    "### Create an equally weighted portfolio and find total portfolio expected return and standard deviation\n",
    "portfolio_value = 100000\n",
    "weights = np.array([1/len(tickers)]*len(tickers))\n",
    "portfolio_expected_return = expected_return(weights, log_returns)\n",
    "portfolio_std_dev = standard_deviation (weights, cov_matrix)"
   ]
  },
  {
   "cell_type": "code",
   "execution_count": 51,
   "id": "440a58c4-d664-4217-9908-9f9efec2f8db",
   "metadata": {},
   "outputs": [],
   "source": [
    "def random_z_score():\n",
    "    return np.random.normal(0, 1)\n",
    "\n",
    "### Create a function to calculate scenarioGainLoss\n",
    "days = 20\n",
    "\n",
    "def scenario_gain_loss(portfolio_value, portfolio_std_dev, z_score, days):\n",
    "    return portfolio_value * portfolio_expected_return * days + portfolio_value * portfolio_std_dev * z_score * np.sqrt(days)"
   ]
  },
  {
   "cell_type": "code",
   "execution_count": 52,
   "id": "ccb64d7e-45e9-47a6-bfb7-235c17fc334d",
   "metadata": {},
   "outputs": [],
   "source": [
    "### Run 10000 simulations\n",
    "simulations = 10000\n",
    "scenarioReturn = []\n",
    "\n",
    "for i in range(simulations):\n",
    "    z_score = random_z_score()\n",
    "    scenarioReturn.append(scenario_gain_loss(portfolio_value, portfolio_std_dev, z_score, days))"
   ]
  },
  {
   "cell_type": "code",
   "execution_count": 53,
   "id": "f2d929d1-3455-4863-bb8a-5a8bea7a2851",
   "metadata": {},
   "outputs": [
    {
     "name": "stdout",
     "output_type": "stream",
     "text": [
      "6872.802708513387\n"
     ]
    }
   ],
   "source": [
    "### Specify a confidence interval and calculate the Value at Risk (VaR)\n",
    "confidence_interval = 0.99\n",
    "VaR = -np.percentile(scenarioReturn, 100 * (1 - confidence_interval))\n",
    "print(VaR)"
   ]
  },
  {
   "cell_type": "code",
   "execution_count": 54,
   "id": "7ac79255-9e87-4738-b3a4-71162d34dd60",
   "metadata": {},
   "outputs": [
    {
     "data": {
      "image/png": "[encoded data removed]",
      "text/plain": [
       "<Figure size 640x480 with 1 Axes>"
      ]
     },
     "metadata": {},
     "output_type": "display_data"
    }
   ],
   "source": [
    "# Plot the results of all 10,000 scenarios\n",
    "plt.hist(scenarioReturn, bins=50, density=True)\n",
    "plt.xlabel('Scenario Gain/Loss ($)')\n",
    "plt.ylabel('Frequency')\n",
    "plt.title(f'Distribution of Portfolio Gain/Loss Over {days} Days')\n",
    "\n",
    "# Plot VaR line\n",
    "plt.axvline(-VaR, color='r', linestyle='dashed', linewidth=2,\n",
    "            label=f'VaR at {confidence_interval:.0%} confidence level')\n",
    "\n",
    "# Annotate VaR value on the red line\n",
    "plt.text(-VaR, plt.ylim()[1] * 0.8, f'${-VaR:,.0f}', color='red', fontsize=10,\n",
    "         ha='right', rotation=90, bbox=dict(facecolor='white', edgecolor='none', pad=1))\n",
    "\n",
    "plt.legend()\n",
    "plt.show()\n"
   ]
  }
 ],
 "metadata": {
  "kernelspec": {
   "display_name": "Python [conda env:base] *",
   "language": "python",
   "name": "conda-base-py"
  },
  "language_info": {
   "codemirror_mode": {
    "name": "ipython",
    "version": 3
   },
   "file_extension": ".py",
   "mimetype": "text/x-python",
   "name": "python",
   "nbconvert_exporter": "python",
   "pygments_lexer": "ipython3",
   "version": "3.13.5"
  }
 },
 "nbformat": 4,
 "nbformat_minor": 5
}
