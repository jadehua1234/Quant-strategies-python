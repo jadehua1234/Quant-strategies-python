{
 "cells": [
  {
   "cell_type": "code",
   "execution_count": 23,
   "id": "3debf1c1-81b0-4061-a5bf-3d860e324a14",
   "metadata": {},
   "outputs": [],
   "source": [
    "import yfinance as yf\n",
    "import pandas as pd \n",
    "import datetime as dt\n",
    "import numpy as np\n",
    "from scipy.optimize import minimize"
   ]
  },
  {
   "cell_type": "code",
   "execution_count": 24,
   "id": "e15c4651-947f-4c56-8392-45f9914f6e8f",
   "metadata": {},
   "outputs": [],
   "source": [
    "tickers = ['SPY', 'NVDA','GLD','AAPL', 'MSFT']"
   ]
  },
  {
   "cell_type": "code",
   "execution_count": 25,
   "id": "12c27e21-2635-4d7e-b584-4c99e9e7cb9e",
   "metadata": {},
   "outputs": [],
   "source": [
    "import datetime  # Import the datetime module first\n",
    "\n",
    "EndDate = datetime.datetime.today()  # Use datetime.datetime instead of datetime.dt"
   ]
  },
  {
   "cell_type": "code",
   "execution_count": 26,
   "id": "13c0ec74-0a16-4cd7-98bd-0dadac1df869",
   "metadata": {},
   "outputs": [
    {
     "name": "stdout",
     "output_type": "stream",
     "text": [
      "2022-07-23 15:01:05.111391\n"
     ]
    }
   ],
   "source": [
    "from datetime import timedelta  # Import the timedelta class from datetime module\n",
    "\n",
    "StartDate = EndDate - timedelta(days = 365*3)\n",
    "print(StartDate)"
   ]
  },
  {
   "cell_type": "code",
   "execution_count": 27,
   "id": "7215df8c-3ad7-4d75-8061-4816d7e31ace",
   "metadata": {},
   "outputs": [],
   "source": [
    "# Import pandas library first\n",
    "import pandas as pd\n",
    "\n",
    "# Now create the DataFrame\n",
    "adj_close_df = pd.DataFrame()"
   ]
  },
  {
   "cell_type": "code",
   "execution_count": 28,
   "id": "28c43f3a-3dbe-4a6e-a425-d6fe18d03d87",
   "metadata": {},
   "outputs": [
    {
     "name": "stderr",
     "output_type": "stream",
     "text": [
      "[*********************100%***********************]  1 of 1 completed\n",
      "[*********************100%***********************]  1 of 1 completed\n",
      "[*********************100%***********************]  1 of 1 completed\n",
      "[*********************100%***********************]  1 of 1 completed\n",
      "[*********************100%***********************]  1 of 1 completed\n"
     ]
    }
   ],
   "source": [
    "tickers = ['SPY', 'NVDA','GLD','AAPL', 'MSFT']\n",
    "\n",
    "# Create a DataFrame to store adjusted close prices\n",
    "adj_close_df = pd.DataFrame()  # Assuming you've imported pandas as pd\n",
    "\n",
    "# Loop through each ticker\n",
    "for ticker in tickers:  # Changed variable name from 'tickers' to 'ticker'\n",
    "    data = yf.download(ticker, start=StartDate, end=EndDate, auto_adjust=False)\n",
    "    adj_close_df[ticker] = data['Adj Close']"
   ]
  },
  {
   "cell_type": "code",
   "execution_count": 29,
   "id": "da22be2c-3258-4584-98a3-f903ab207806",
   "metadata": {},
   "outputs": [
    {
     "name": "stdout",
     "output_type": "stream",
     "text": [
      "                   SPY        NVDA         GLD        AAPL        MSFT\n",
      "Date                                                                  \n",
      "2022-07-25  379.123169   16.999481  160.229996  150.534897  252.426895\n",
      "2022-07-26  374.637848   16.509188  160.039993  149.206253  245.668320\n",
      "2022-07-27  384.365784   17.764378  161.669998  154.314270  262.091766\n",
      "2022-07-28  389.186646   17.958097  163.639999  154.865448  269.572021\n",
      "2022-07-29  394.860474   18.136839  164.100006  159.943954  273.794861\n",
      "...                ...         ...         ...         ...         ...\n",
      "2025-07-15  622.140015  170.699997  306.730011  209.110001  505.820007\n",
      "2025-07-16  624.219971  171.369995  308.260010  210.160004  505.619995\n",
      "2025-07-17  628.039978  173.000000  307.589996  210.020004  511.700012\n",
      "2025-07-18  627.580017  172.410004  308.390015  211.179993  510.049988\n",
      "2025-07-21  628.770020  171.380005  313.130005  212.479996  510.059998\n",
      "\n",
      "[750 rows x 5 columns]\n"
     ]
    }
   ],
   "source": [
    "print(adj_close_df)"
   ]
  },
  {
   "cell_type": "code",
   "execution_count": 30,
   "id": "2e883985-996a-4933-8b97-4406f8e4ec47",
   "metadata": {},
   "outputs": [],
   "source": [
    "log_returns= np.log(adj_close_df / adj_close_df.shift(1))"
   ]
  },
  {
   "cell_type": "code",
   "execution_count": 31,
   "id": "6b9fa937-1733-448d-8d62-ff28c55a9a42",
   "metadata": {},
   "outputs": [],
   "source": [
    "log_returns= log_returns.dropna()"
   ]
  },
  {
   "cell_type": "code",
   "execution_count": 32,
   "id": "9bff0d64-38ce-4f6a-935d-451f663d0501",
   "metadata": {},
   "outputs": [
    {
     "name": "stdout",
     "output_type": "stream",
     "text": [
      "           SPY      NVDA       GLD      AAPL      MSFT\n",
      "SPY   0.029955  0.062691  0.004713  0.036509  0.033850\n",
      "NVDA  0.062691  0.283640  0.008327  0.069245  0.083455\n",
      "GLD   0.004713  0.008327  0.023869  0.004019  0.005161\n",
      "AAPL  0.036509  0.069245  0.004019  0.078171  0.044528\n",
      "MSFT  0.033850  0.083455  0.005161  0.044528  0.068384\n"
     ]
    }
   ],
   "source": [
    "cov_matrix = log_returns.cov()*252\n",
    "print(cov_matrix)"
   ]
  },
  {
   "cell_type": "code",
   "execution_count": 33,
   "id": "0d8996cb-3de3-46c6-9b88-f76b2dc2498f",
   "metadata": {},
   "outputs": [],
   "source": [
    "def standard_deviation(weights, cov_matrix):\n",
    "    variance = weights.T @ cov_matrix@ weights\n",
    "    return np.sqrt(variance)"
   ]
  },
  {
   "cell_type": "code",
   "execution_count": 34,
   "id": "5f859af3-f443-489a-adc4-b219da5e98b5",
   "metadata": {},
   "outputs": [],
   "source": [
    "def expected_return(weights, log_returns):\n",
    "    return np.sum(log_returns.mean()*weights)*252"
   ]
  },
  {
   "cell_type": "code",
   "execution_count": 35,
   "id": "73957c14-92f9-4867-82b2-948c3707b943",
   "metadata": {},
   "outputs": [],
   "source": [
    "def sharpe_ratio(weights, log_returns, cov_matrix, risk_free_rate):\n",
    "    returns(expected_return(weights, log_returns)- risk_free_rate)/standard_deviation(weights, cov_matrix)\n",
    "\n"
   ]
  },
  {
   "cell_type": "code",
   "execution_count": 36,
   "id": "8b67fae3-81f5-4522-ae8c-ed576ccef83a",
   "metadata": {},
   "outputs": [
    {
     "name": "stdout",
     "output_type": "stream",
     "text": [
      "Requirement already satisfied: fredapi in /opt/anaconda3/lib/python3.13/site-packages (0.5.2)\n",
      "Requirement already satisfied: pandas in /opt/anaconda3/lib/python3.13/site-packages (from fredapi) (2.2.3)\n",
      "Requirement already satisfied: numpy>=1.26.0 in /opt/anaconda3/lib/python3.13/site-packages (from pandas->fredapi) (2.1.3)\n",
      "Requirement already satisfied: python-dateutil>=2.8.2 in /opt/anaconda3/lib/python3.13/site-packages (from pandas->fredapi) (2.9.0.post0)\n",
      "Requirement already satisfied: pytz>=2020.1 in /opt/anaconda3/lib/python3.13/site-packages (from pandas->fredapi) (2024.1)\n",
      "Requirement already satisfied: tzdata>=2022.7 in /opt/anaconda3/lib/python3.13/site-packages (from pandas->fredapi) (2025.2)\n",
      "Requirement already satisfied: six>=1.5 in /opt/anaconda3/lib/python3.13/site-packages (from python-dateutil>=2.8.2->pandas->fredapi) (1.17.0)\n",
      "0.0438\n"
     ]
    }
   ],
   "source": [
    "!pip install fredapi\n",
    "\n",
    "from fredapi import Fred\n",
    "fred = Fred(api_key='307e8e5ac01fd809cbfe9ba2b4ec8e92')\n",
    "ten_year_treasury_rate = fred.get_series_latest_release('GS10')/100\n",
    "\n",
    "risk_free_rate = ten_year_treasury_rate.iloc[-1]\n",
    "print(risk_free_rate)"
   ]
  },
  {
   "cell_type": "code",
   "execution_count": 37,
   "id": "20ba25be-f216-437d-80b5-8120ec64aace",
   "metadata": {},
   "outputs": [],
   "source": [
    "def neg_sharpe_ratio(weights, log_returns, cov_matrix, risk_free_rate):\n",
    "    return-sharpe_ratio(weights, log_returns, cov_matrix, risk_free_rate)\n",
    "    "
   ]
  },
  {
   "cell_type": "code",
   "execution_count": 38,
   "id": "4aa71a4d-2cb6-4b7d-a035-0177f13d0ab9",
   "metadata": {},
   "outputs": [],
   "source": [
    "constraints = {'type': 'eq', 'fun': lambda weights: np.sum(weights)-1}\n",
    "bounds = [(0, 0.4) for _ in range(len(tickers))]"
   ]
  },
  {
   "cell_type": "code",
   "execution_count": 39,
   "id": "88259aec-9d9c-4ac3-a50c-463d6a383062",
   "metadata": {},
   "outputs": [
    {
     "name": "stdout",
     "output_type": "stream",
     "text": [
      "[0.2 0.2 0.2 0.2 0.2]\n"
     ]
    }
   ],
   "source": [
    "initial_weights = np.array([1/len(tickers)]*len(tickers))\n",
    "print(initial_weights)"
   ]
  },
  {
   "cell_type": "code",
   "execution_count": 40,
   "id": "39bd97b2-6569-40b2-a50c-8d9be8f9da06",
   "metadata": {},
   "outputs": [],
   "source": [
    "def neg_sharpe_ratio(weights, log_returns, cov_matrix, risk_free_rate):\n",
    "    # Assuming this is your function definition\n",
    "    # Changed 'returns' to 'log_returns' in the function body\n",
    "    portfolio_return = np.sum(log_returns.mean() * weights) * 252\n",
    "    portfolio_std = np.sqrt(np.dot(weights.T, np.dot(cov_matrix, weights))) * np.sqrt(252)\n",
    "    sharpe_ratio = (portfolio_return - risk_free_rate) / portfolio_std\n",
    "    \n",
    "    # Return negative Sharpe ratio for minimization\n",
    "    return -sharpe_ratio\n",
    "\n",
    "optimized_results = minimize(neg_sharpe_ratio, initial_weights, args=(log_returns, cov_matrix, risk_free_rate), method='SLSQP', constraints=constraints, bounds=bounds)"
   ]
  },
  {
   "cell_type": "code",
   "execution_count": 41,
   "id": "490b60db-3c32-4de5-8f5c-315974805663",
   "metadata": {},
   "outputs": [],
   "source": [
    "optimal_weights = optimized_results.x"
   ]
  },
  {
   "cell_type": "code",
   "execution_count": 42,
   "id": "f865b82a-5ceb-4ee6-a38c-6985d543b31d",
   "metadata": {},
   "outputs": [
    {
     "name": "stdout",
     "output_type": "stream",
     "text": [
      "Optimal Weights:\n",
      "SPY: 0.1459\n",
      "NVDA: 0.4000\n",
      "GLD: 0.4000\n",
      "AAPL: 0.0000\n",
      "MSFT: 0.0541\n",
      "\n",
      "Expected Annual Return: 0.4388\n",
      "Expected Volatility: 0.2548\n",
      "Sharpe Ratio: 1.5499\n"
     ]
    }
   ],
   "source": [
    "optimal_weights = optimized_results.x\n",
    "\n",
    "print(\"Optimal Weights:\")\n",
    "for ticker, weight in zip(tickers, optimal_weights):\n",
    "    print(f\"{ticker}: {weight:.4f}\")\n",
    "\n",
    "def sharpe_ratio(weights, log_returns, cov_matrix, risk_free_rate):\n",
    "    return (expected_return(weights, log_returns) - risk_free_rate) / standard_deviation(weights, cov_matrix)\n",
    "\n",
    "print()\n",
    "optimal_portfolio_return = expected_return(optimal_weights, log_returns)\n",
    "optimal_portfolio_volatility = standard_deviation(optimal_weights, cov_matrix)\n",
    "optimal_sharpe_ratio = sharpe_ratio(optimal_weights, log_returns, cov_matrix, risk_free_rate)\n",
    "\n",
    "print(f\"Expected Annual Return: {optimal_portfolio_return:.4f}\")\n",
    "print(f\"Expected Volatility: {optimal_portfolio_volatility:.4f}\")\n",
    "print(f\"Sharpe Ratio: {optimal_sharpe_ratio:.4f}\")"
   ]
  },
  {
   "cell_type": "code",
   "execution_count": 43,
   "id": "de2179c0-bdaa-41c1-8cca-3cfb031c41f9",
   "metadata": {},
   "outputs": [
    {
     "data": {
      "image/png": "[encoded data removed]",
      "text/plain": [
       "<Figure size 1000x600 with 1 Axes>"
      ]
     },
     "metadata": {},
     "output_type": "display_data"
    }
   ],
   "source": [
    "import matplotlib.pyplot as plt\n",
    "\n",
    "plt.figure(figsize=(10, 6))\n",
    "plt.bar(tickers, optimal_weights)\n",
    "\n",
    "plt.xlabel('Assets')\n",
    "plt.ylabel('Optimal Weights')\n",
    "plt.title('Optimal Portfolio Weights')\n",
    "\n",
    "plt.show()"
   ]
  }
 ],
 "metadata": {
  "kernelspec": {
   "display_name": "Python [conda env:base] *",
   "language": "python",
   "name": "conda-base-py"
  },
  "language_info": {
   "codemirror_mode": {
    "name": "ipython",
    "version": 3
   },
   "file_extension": ".py",
   "mimetype": "text/x-python",
   "name": "python",
   "nbconvert_exporter": "python",
   "pygments_lexer": "ipython3",
   "version": "3.13.5"
  }
 },
 "nbformat": 4,
 "nbformat_minor": 5
}
